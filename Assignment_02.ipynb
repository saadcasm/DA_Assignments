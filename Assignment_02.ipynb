{
 "cells": [
  {
   "cell_type": "markdown",
   "id": "71dab8b2-cbb7-4cf4-beda-1653242dc7cc",
   "metadata": {},
   "source": [
    "# Assignment 02"
   ]
  },
  {
   "cell_type": "markdown",
   "id": "66b0122b-3751-46fe-9823-debcafb01622",
   "metadata": {},
   "source": [
    "### Question 1: Age Group Classification"
   ]
  },
  {
   "cell_type": "code",
   "execution_count": 3,
   "id": "f4f2189e-63e3-4efb-9334-04c14ef50d56",
   "metadata": {},
   "outputs": [
    {
     "name": "stdin",
     "output_type": "stream",
     "text": [
      "Please enter your age:  24\n"
     ]
    },
    {
     "name": "stdout",
     "output_type": "stream",
     "text": [
      "Your are an Adult\n"
     ]
    }
   ],
   "source": [
    "age = int(input(\"Please enter your age: \"))\n",
    "\n",
    "if age >= 0:\n",
    "    if age >= 0 and age <= 12:\n",
    "        print(\"Your are a Child\")\n",
    "    elif age >= 13 and age <= 19:\n",
    "        print(\"Your are a Teenager\")\n",
    "    elif age >= 20 and age <= 64:\n",
    "        print(\"Your are an Adult\")\n",
    "    else:\n",
    "        print(\"You are a Senior\")\n",
    "else:\n",
    "    print(\"Your age cannot be less than 0\")"
   ]
  },
  {
   "cell_type": "markdown",
   "id": "a2b6cd2a-a458-4300-b9a2-1592ce6025a9",
   "metadata": {},
   "source": [
    "### Question 2: Checking for Eligibility for Discount"
   ]
  },
  {
   "cell_type": "code",
   "execution_count": 5,
   "id": "de4a0792-ab26-4b79-a20e-88eee471e4a7",
   "metadata": {},
   "outputs": [
    {
     "name": "stdin",
     "output_type": "stream",
     "text": [
      "Please enter your membership status (regular/premium):  regular\n",
      "Please enter your purchase amount:  2500\n"
     ]
    },
    {
     "name": "stdout",
     "output_type": "stream",
     "text": [
      "Eligible for discount\n"
     ]
    }
   ],
   "source": [
    "membership_status = str(input(\"Please enter your membership status (regular/premium): \")).lower()\n",
    "purchase_amount = int(input(\"Please enter your purchase amount: \"))\n",
    "\n",
    "if membership_status == \"premium\" or membership_status == \"regular\":\n",
    "    if membership_status == \"premium\" and purchase_amount >= 1000:\n",
    "        print(\"Eligible for discount\")\n",
    "    elif membership_status == \"regular\" and purchase_amount >= 2000:\n",
    "        print(\"Eligible for discount\")\n",
    "    else:\n",
    "        print(\"Not eligible for discount\")\n",
    "else:\n",
    "    print(\"The membership status you have entered is invalid\")"
   ]
  },
  {
   "cell_type": "markdown",
   "id": "8a34a7e8-0887-40b2-83dd-7e31813c0bb3",
   "metadata": {},
   "source": [
    "### Question 3: Voting Eligibility Check"
   ]
  },
  {
   "cell_type": "code",
   "execution_count": 1,
   "id": "ef53c1c6-a0ac-4b7a-80f8-6b9775e2ea15",
   "metadata": {},
   "outputs": [
    {
     "name": "stdin",
     "output_type": "stream",
     "text": [
      "Please enter your age:  16\n",
      "Please enter your citizenship status (citizen/non-citizen):  citizen\n",
      "Are you a citizen of a special region? (yes/no):  yes\n"
     ]
    },
    {
     "name": "stdout",
     "output_type": "stream",
     "text": [
      "Eligible to vote\n"
     ]
    }
   ],
   "source": [
    "age = int(input(\"Please enter your age: \"))\n",
    "\n",
    "if age >= 16:\n",
    "    citizenship_status = str(input(\"Please enter your citizenship status (citizen/non-citizen): \")).lower()\n",
    "    special_region = False\n",
    "\n",
    "if age == 16 and citizenship_status == \"citizen\":\n",
    "    answer = str(input(\"Are you a citizen of a special region? (yes/no): \")).lower()\n",
    "    if answer == \"yes\":\n",
    "        special_region = True\n",
    "\n",
    "if age >= 18 and citizenship_status == \"citizen\":\n",
    "    print(\"Eligible to vote\")\n",
    "elif age == 16 and citizenship_status == \"citizen\" and special_region == True:\n",
    "    print(\"Eligible to vote\")\n",
    "else:\n",
    "    print(\"Not eligible to vote\")"
   ]
  },
  {
   "cell_type": "markdown",
   "id": "c82a9902-b6cc-46ea-b32c-3cbb16b0b5f7",
   "metadata": {},
   "source": [
    "### Question 4: Employee Salary Bonus Eligibility"
   ]
  },
  {
   "cell_type": "code",
   "execution_count": 3,
   "id": "1afcbe72-8fc1-4ada-9645-921828d605b9",
   "metadata": {},
   "outputs": [
    {
     "name": "stdin",
     "output_type": "stream",
     "text": [
      "Please enter employee's performance (excellent/good/satisfactory):  good\n",
      "Please enter employee's number of years of service:  20\n"
     ]
    },
    {
     "name": "stdout",
     "output_type": "stream",
     "text": [
      "Eligible for bonus\n"
     ]
    }
   ],
   "source": [
    "employee_performance = str(input(\"Please enter employee's performance (excellent/good/satisfactory): \")).lower()\n",
    "years_of_service = int(input(\"Please enter employee's number of years of service: \"))\n",
    "\n",
    "if employee_performance == \"excellent\" and years_of_service >= 5:\n",
    "    print(\"Eligible for bonus\")\n",
    "elif employee_performance == \"good\" and years_of_service >= 10:\n",
    "    print(\"Eligible for bonus\")\n",
    "elif employee_performance == \"satisfactory\" and years_of_service >= 15:\n",
    "    print(\"Eligible for bonus\")\n",
    "else:\n",
    "    print(\"Not eligible for bonus\")"
   ]
  },
  {
   "cell_type": "markdown",
   "id": "7a0c3ace-3006-4bfd-b4d8-f92486c60bc6",
   "metadata": {},
   "source": [
    "### Question 5"
   ]
  },
  {
   "cell_type": "code",
   "execution_count": 5,
   "id": "26d8dd5e-60b7-4692-b1c1-a2cbd7c94071",
   "metadata": {},
   "outputs": [
    {
     "name": "stdout",
     "output_type": "stream",
     "text": [
      "I'm_learning_Python_programming\n",
      "Number of '_' in the text: 3\n",
      "Position of first '_': 3\n"
     ]
    }
   ],
   "source": [
    "text = \"I'm learning Python programming\"\n",
    "text = text.replace(\" \", \"_\")\n",
    "print(text)\n",
    "print(\"Number of '_' in the text: \" + str(text.count(\"_\")))\n",
    "print(\"Position of first '_': \" + str(text.find(\"_\")))"
   ]
  },
  {
   "cell_type": "markdown",
   "id": "074065d5-2753-4974-b5b1-f79ddf784fc4",
   "metadata": {},
   "source": [
    "### Question 6"
   ]
  },
  {
   "cell_type": "code",
   "execution_count": 7,
   "id": "56b7c2ed-5aa9-47f6-a8c6-7c540495033c",
   "metadata": {},
   "outputs": [
    {
     "name": "stdin",
     "output_type": "stream",
     "text": [
      "Please input a string:  hi, my name is Saad Sadiq\n"
     ]
    },
    {
     "name": "stdout",
     "output_type": "stream",
     "text": [
      "hi, my name is Saad Sa\n",
      "i ynm sSa ai\n",
      "qidaS daaS si eman ym ,ih\n"
     ]
    }
   ],
   "source": [
    "text = str(input(\"Please input a string: \"))\n",
    "print(text[0:-3])\n",
    "print(text[1::2])\n",
    "print(text[::-1])"
   ]
  },
  {
   "cell_type": "markdown",
   "id": "fdf59dc7-2650-4a19-8361-65bc7d05b7a1",
   "metadata": {},
   "source": [
    "### Question 7"
   ]
  },
  {
   "cell_type": "code",
   "execution_count": 9,
   "id": "8b6f87d0-6dd1-433c-9162-d5584b78db72",
   "metadata": {},
   "outputs": [
    {
     "name": "stdout",
     "output_type": "stream",
     "text": [
      "Python learning are We World, Hello\n"
     ]
    }
   ],
   "source": [
    "text = \"Hello World, We are learning Python\"\n",
    "splitted_text = text.split()\n",
    "reversed_text = splitted_text[::-1]\n",
    "reversed_text = \" \".join(reversed_text)\n",
    "print(reversed_text)"
   ]
  },
  {
   "cell_type": "markdown",
   "id": "e3180a85-781c-4e99-ac73-d64a7d0e4da9",
   "metadata": {},
   "source": [
    "### Question 8"
   ]
  },
  {
   "cell_type": "code",
   "execution_count": 11,
   "id": "50f51a0b-a8e3-4953-b4e0-d2a301bbd5cd",
   "metadata": {},
   "outputs": [
    {
     "name": "stdout",
     "output_type": "stream",
     "text": [
      "12345\n"
     ]
    }
   ],
   "source": [
    "product_code = \"SKU-12345-XYZ\"\n",
    "product_code = product_code.removeprefix(\"SKU-\")\n",
    "product_code = product_code.removesuffix(\"-XYZ\")\n",
    "print(product_code)"
   ]
  },
  {
   "cell_type": "markdown",
   "id": "822d784f-3cc2-4f74-8aa2-a82c52f730d1",
   "metadata": {},
   "source": [
    "### Question 9"
   ]
  },
  {
   "cell_type": "code",
   "execution_count": 13,
   "id": "481a79ca-166a-4d9a-8f9a-63537195e1d2",
   "metadata": {},
   "outputs": [
    {
     "name": "stdin",
     "output_type": "stream",
     "text": [
      "Enter your password:  Abcd 123$##\n"
     ]
    },
    {
     "name": "stdout",
     "output_type": "stream",
     "text": [
      "Contains uppercase characters: True\n",
      "Contains lowercase characters: True\n",
      "Contains spaces: True\n",
      "Contains special characters: True\n"
     ]
    }
   ],
   "source": [
    "import string\n",
    "\n",
    "password = str(input(\"Enter your password: \"))\n",
    "\n",
    "has_uppercase = False\n",
    "has_lowercase = False\n",
    "has_spaces = False\n",
    "has_special_char = False\n",
    "\n",
    "for char in password:\n",
    "    if char.isupper():\n",
    "        has_uppercase = True\n",
    "    elif char.islower():\n",
    "        has_lowercase = True\n",
    "    elif char.isspace():\n",
    "        has_spaces = True\n",
    "    elif char in string.punctuation:\n",
    "        has_special_char = True\n",
    "\n",
    "print(\"Contains uppercase characters:\", has_uppercase)\n",
    "print(\"Contains lowercase characters:\", has_lowercase)\n",
    "print(\"Contains spaces:\", has_spaces)\n",
    "print(\"Contains special characters:\", has_special_char)"
   ]
  },
  {
   "cell_type": "markdown",
   "id": "d5253fd9-8e10-4be0-aae2-a05e30d9abcd",
   "metadata": {},
   "source": [
    "### Question 10"
   ]
  },
  {
   "cell_type": "code",
   "execution_count": null,
   "id": "9eb571c4-ff76-4552-ad31-545f9a3f6007",
   "metadata": {},
   "outputs": [],
   "source": [
    "text = input(\"Please enter a sentence: \")\n",
    "words = text.split()\n",
    "longest_word = \"\"\n",
    "max_length = 0\n",
    "\n",
    "for word in words:\n",
    "    if len(word) > max_length:\n",
    "        longest_word = word\n",
    "        max_length = len(word)\n",
    "\n",
    "print(\"The longest word is:\", longest_word)"
   ]
  }
 ],
 "metadata": {
  "kernelspec": {
   "display_name": "Python 3 (ipykernel)",
   "language": "python",
   "name": "python3"
  },
  "language_info": {
   "codemirror_mode": {
    "name": "ipython",
    "version": 3
   },
   "file_extension": ".py",
   "mimetype": "text/x-python",
   "name": "python",
   "nbconvert_exporter": "python",
   "pygments_lexer": "ipython3",
   "version": "3.12.7"
  }
 },
 "nbformat": 4,
 "nbformat_minor": 5
}
