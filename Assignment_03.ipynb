{
 "cells": [
  {
   "cell_type": "markdown",
   "id": "dec97e0a-41bd-42e6-8793-1ed179fdfb50",
   "metadata": {},
   "source": [
    "# Assignment 03"
   ]
  },
  {
   "cell_type": "markdown",
   "id": "c0ae2a03-fd67-46b6-b2f3-432820b63892",
   "metadata": {},
   "source": [
    "### QUESTION 01:"
   ]
  },
  {
   "cell_type": "code",
   "execution_count": 1,
   "id": "600ce0e3-b556-42c1-a2ab-9fefb7726932",
   "metadata": {},
   "outputs": [
    {
     "name": "stdin",
     "output_type": "stream",
     "text": [
      "Please enter your age:  24\n",
      "Please enter your credit score:  650\n",
      "Please enter your annual income:  35000\n"
     ]
    },
    {
     "name": "stdout",
     "output_type": "stream",
     "text": [
      "You are eligible for loan\n"
     ]
    }
   ],
   "source": [
    "age = int(input(\"Please enter your age: \"))\n",
    "\n",
    "if age >= 18:\n",
    "\n",
    "    credit_score = int(input(\"Please enter your credit score: \"))\n",
    "    income = int(input(\"Please enter your annual income: \"))\n",
    "    \n",
    "    if (credit_score >= 650 and income >= 30000) or (credit_score >= 700 and income >= 25000):\n",
    "        print(\"You are eligible for loan\")\n",
    "    else:\n",
    "        print(\"You are not eligible for loan\")\n",
    "else:\n",
    "    print(\"You are not eligible for loan\")"
   ]
  },
  {
   "cell_type": "markdown",
   "id": "c993ae2e-183d-4a4f-a6fe-ab6e712c392a",
   "metadata": {},
   "source": [
    "### QUESTION 02:"
   ]
  },
  {
   "cell_type": "code",
   "execution_count": 5,
   "id": "582b0cc5-dc19-4067-ad2d-3a904e718cd8",
   "metadata": {},
   "outputs": [
    {
     "name": "stdin",
     "output_type": "stream",
     "text": [
      "Please enter your age:  24\n",
      "Please enter the number of years of your experience:  3\n"
     ]
    },
    {
     "name": "stdout",
     "output_type": "stream",
     "text": [
      "You are relatively new.\n"
     ]
    }
   ],
   "source": [
    "age = int(input(\"Please enter your age: \"))\n",
    "\n",
    "if age >= 18:\n",
    "    years_of_exp = int(input(\"Please enter the number of years of your experience: \"))\n",
    "\n",
    "    if years_of_exp >= 10:\n",
    "        print(\"You have a lot of experience.\")\n",
    "    elif years_of_exp >= 5 and years_of_exp <= 9:\n",
    "        print(\"You have moderate experience.\")\n",
    "    elif years_of_exp >= 2 and years_of_exp <= 4:\n",
    "        print(\"You are relatively new.\")\n",
    "    else:\n",
    "        print(\"You are just starting out.\")\n",
    "else:\n",
    "    print(\"You are underage\")"
   ]
  },
  {
   "attachments": {},
   "cell_type": "markdown",
   "id": "0062ad22-35f1-402c-9579-47c6e6948534",
   "metadata": {},
   "source": [
    "### QUESTION 03:"
   ]
  },
  {
   "cell_type": "code",
   "execution_count": 7,
   "id": "415de01a-d19c-478c-a09b-087a72c42240",
   "metadata": {},
   "outputs": [
    {
     "name": "stdout",
     "output_type": "stream",
     "text": [
      "Part a:\n",
      "\n",
      "Variable var_a memory address: 4961436896\n",
      "Variable var_b memory address: 4956137808\n",
      "Variable var_c memory address: 4956137008\n",
      "Variable var_d memory address: 4956137008\n",
      "\n",
      "Part b:\n",
      "\n",
      "Size of variable var_a: 46\n",
      "Size of variable var_b: 28\n",
      "Size of variable var_c: 28\n",
      "Size of variable var_d: 28\n",
      "Minimum memory size: 28\n",
      "Datatype of minimum memory size variable: <class 'int'>\n",
      "\n",
      "Part c:\n",
      "\n",
      "Name of minimum memory size variable: var_b\n"
     ]
    }
   ],
   "source": [
    "import sys\n",
    "\n",
    "var_a = \"12345\"\n",
    "var_b = 12345\n",
    "var_c = 12345\n",
    "var_d = var_c\n",
    "\n",
    "variable_names = [\"var_a\", \"var_b\", \"var_c\", \"var_d\"]\n",
    "variable_values = [var_a, var_b, var_c, var_d]\n",
    "\n",
    "# Part a:\n",
    "print(\"Part a:\\n\")\n",
    "\n",
    "for index, var in enumerate(variable_values):\n",
    "    size = sys.getsizeof(var)\n",
    "    print(f\"Variable {variable_names[index]} memory address: {id(var)}\")\n",
    "    \n",
    "# Part b:\n",
    "size_of_vars = []\n",
    "\n",
    "print(\"\\nPart b:\\n\")\n",
    "\n",
    "for index, var in enumerate(variable_values):\n",
    "    size = sys.getsizeof(var)\n",
    "    print(f\"Size of variable {variable_names[index]}: {size}\")\n",
    "    size_of_vars.append(size)\n",
    "\n",
    "min_size = min(size_of_vars)\n",
    "index_of_min_size = size_of_vars.index(min_size)\n",
    "min_datatype = type(variable_values[index_of_min_size])\n",
    "\n",
    "print(f\"Minimum memory size: {min_size}\")\n",
    "print(f\"Datatype of minimum memory size variable: {min_datatype}\")\n",
    "\n",
    "print(\"\\nPart c:\\n\")\n",
    "print(f\"Name of minimum memory size variable: {variable_names[index_of_min_size]}\")"
   ]
  },
  {
   "cell_type": "markdown",
   "id": "b081e09a-68bc-400f-9abe-6d6419eb749c",
   "metadata": {},
   "source": [
    "### QUESTION 04:"
   ]
  },
  {
   "cell_type": "code",
   "execution_count": 9,
   "id": "3dccb402-fa75-42bc-8ab3-b956ac1ffe14",
   "metadata": {},
   "outputs": [
    {
     "name": "stdin",
     "output_type": "stream",
     "text": [
      "Please enter your email address:  saadsadiq2000gmail.com\n"
     ]
    },
    {
     "name": "stdout",
     "output_type": "stream",
     "text": [
      "Invalid email format.\n"
     ]
    }
   ],
   "source": [
    "email = str(input(\"Please enter your email address: \"))\n",
    "\n",
    "if \"@\" in email and \".\" in email:\n",
    "    print(\"Email format is valid.\")\n",
    "else:\n",
    "    print(\"Invalid email format.\")"
   ]
  },
  {
   "cell_type": "markdown",
   "id": "a0c04a65-184b-44f3-8999-749fe85c1538",
   "metadata": {},
   "source": [
    "### QUESTION 05:"
   ]
  },
  {
   "cell_type": "code",
   "execution_count": null,
   "id": "24137861-896a-43ac-b7b3-4b50cd3bc2ab",
   "metadata": {},
   "outputs": [],
   "source": [
    "x = (11, 22.333, '', [1,2,3], ('a','b'))\n",
    "list_of_datatypes = []\n",
    "\n",
    "for data in x:\n",
    "    type(data)\n",
    "    list_of_datatypes.append(type(data))\n",
    "\n",
    "print(list_of_datatypes)"
   ]
  },
  {
   "cell_type": "markdown",
   "id": "2ceeb561-7eb0-40e2-b47d-a0023f1c64e0",
   "metadata": {},
   "source": [
    "### QUESTION 06:"
   ]
  },
  {
   "cell_type": "code",
   "execution_count": null,
   "id": "fafcf75a-2485-486a-b7cc-7df25a1c3bda",
   "metadata": {},
   "outputs": [],
   "source": [
    "admin = \"admin\"\n",
    "\n",
    "users = [(\"alice\", \"admin\"), (\"bob\", \"user\"), (\"charlie\", \"moderator\")]\n",
    "user_to_search = str(input(\"Please enter your username: \")).lower()\n",
    "user_exists = False\n",
    "user_is_admin = False\n",
    "\n",
    "for user in users:\n",
    "    if user_to_search in user:\n",
    "        user_exists = True\n",
    "        if user[1] is admin:\n",
    "            user_is_admin = True\n",
    "\n",
    "if user_exists:\n",
    "    print(\"User found\")\n",
    "    if user_is_admin:\n",
    "        print(\"User Role: admin\")\n",
    "else:\n",
    "    print(\"User not found\")"
   ]
  },
  {
   "cell_type": "markdown",
   "id": "e12742fa-68e4-4b51-a881-8285a02e8f3d",
   "metadata": {},
   "source": [
    "### QUESTION 07:"
   ]
  },
  {
   "cell_type": "code",
   "execution_count": null,
   "id": "e14ce478-522f-419a-97ba-6034f90120f1",
   "metadata": {},
   "outputs": [],
   "source": [
    "person1 = [\"Bob\", \"Jane\", \"Berlin\", 12345]\n",
    "person2 = person1\n",
    "person3 = [\"Tom\", \"Mary\", \"Berlin\", 56789]\n",
    "\n",
    "if person1 is person2:\n",
    "    print(\"Relation of Person 1 with Person 2: Siblings\")\n",
    "else:\n",
    "    print(\"Relation of Person 1 with Person 2: Not Siblings\")\n",
    "\n",
    "if person1 is not person3:\n",
    "    print(\"Relation of Person 1 with Person 3: Cousins\")\n",
    "else:\n",
    "    print(\"Relation of Person 1 with Person 3: Not Cousins\")"
   ]
  },
  {
   "cell_type": "markdown",
   "id": "a589ac6a-212c-4003-ac5f-b27e4bfd9f7f",
   "metadata": {},
   "source": [
    "### QUESTION 08:"
   ]
  },
  {
   "cell_type": "code",
   "execution_count": null,
   "id": "ed9ef656-2286-4227-8148-8ee38c9db38c",
   "metadata": {},
   "outputs": [],
   "source": [
    "title = input(\"Enter the book's title: \")\n",
    "author = input(\"Enter the author's name: \")\n",
    "year = int(input(\"Enter the year of publication: \"))\n",
    "price = float(input(\"Enter the price of the book: \"))\n",
    "\n",
    "book_information = (title, author, year, price)\n",
    "\n",
    "print(\"\\nBook Information:\")\n",
    "print(f\"Title: {book_information[0]}\")\n",
    "print(f\"Author: {book_information[1]}\")\n",
    "print(f\"Year of Publication: {book_information[2]}\")\n",
    "print(f\"Price: ${book_information[3]:.2f}\")"
   ]
  },
  {
   "cell_type": "markdown",
   "id": "6dce4a8e-08bb-423d-b1c8-9f2d0f26873b",
   "metadata": {},
   "source": [
    "### QUESTION 09:"
   ]
  },
  {
   "cell_type": "code",
   "execution_count": null,
   "id": "f600c01d-9854-4c30-8bf1-12cda97f244b",
   "metadata": {},
   "outputs": [],
   "source": [
    "subjects = [\"physics\", \"mathematics\", \"chemistry\", \"urdu\", \"history\"]\n",
    "user_subject = str(input(\"Enter the subject you want to check: \")).lower()\n",
    "\n",
    "if user_subject in subjects:\n",
    "    print(f\"\\nSubject {user_subject.capitalize()}: Available\")\n",
    "else:\n",
    "    print(f\"\\nSubject {user_subject.capitalize()}: Not Available\")\n"
   ]
  },
  {
   "cell_type": "markdown",
   "id": "2f862fa0-eec8-4224-a3d8-cc35582016ad",
   "metadata": {},
   "source": [
    "### QUESTION 10:"
   ]
  },
  {
   "cell_type": "code",
   "execution_count": null,
   "id": "14ff5f40-9491-4cbf-aeef-8f0af629d599",
   "metadata": {},
   "outputs": [],
   "source": [
    "numbers = (1, 2, 3, 4, 2, 5, 6, 2, 7, 8)\n",
    "\n",
    "first_number = int(input(\"Enter a number to check its index in tuple: \"))\n",
    "second_number = int(input(\"Enter a number to checks its count in the tuple: \"))\n",
    "\n",
    "if first_number in numbers:\n",
    "    first_index = numbers.index(first_number)\n",
    "    print(f\"\\nFirst index of {first_number}: {first_index}\")\n",
    "else:\n",
    "    print(f\"\\nThe number {first_number} is not in the tuple\")\n",
    "\n",
    "count = numbers.count(second_number)\n",
    "print(f\"Total count of {second_number}: {count}\")\n"
   ]
  },
  {
   "cell_type": "markdown",
   "id": "bf1dc73c-afbf-4d2b-bbff-89af95a269e5",
   "metadata": {},
   "source": [
    "### QUESTION FOR HARD WORKING LEARNERS"
   ]
  },
  {
   "cell_type": "code",
   "execution_count": null,
   "id": "befad276-0c15-4313-b657-c18ff4104018",
   "metadata": {},
   "outputs": [],
   "source": [
    "freezing_temp = -5\n",
    "normal_temp = 25\n",
    "hot_temp = 40\n",
    "\n",
    "current_temp = int(input(\"Enter the current temperature in Celsius: \"))\n",
    "\n",
    "if current_temp <= freezing_temp:\n",
    "    print(\"The temperature is freezing\")\n",
    "elif freezing_temp < current_temp <= normal_temp:\n",
    "    print(\"The temperature is normal\")\n",
    "elif normal_temp < current_temp <= hot_temp:\n",
    "    print(\"The temperature is warm\")\n",
    "else:\n",
    "    print(\"The temperature is hot\")"
   ]
  },
  {
   "cell_type": "code",
   "execution_count": null,
   "id": "5181bbd3-d244-403e-b9c9-61e1c4526e0f",
   "metadata": {},
   "outputs": [],
   "source": []
  }
 ],
 "metadata": {
  "kernelspec": {
   "display_name": "Python 3 (ipykernel)",
   "language": "python",
   "name": "python3"
  },
  "language_info": {
   "codemirror_mode": {
    "name": "ipython",
    "version": 3
   },
   "file_extension": ".py",
   "mimetype": "text/x-python",
   "name": "python",
   "nbconvert_exporter": "python",
   "pygments_lexer": "ipython3",
   "version": "3.12.7"
  }
 },
 "nbformat": 4,
 "nbformat_minor": 5
}
