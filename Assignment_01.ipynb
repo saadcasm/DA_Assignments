{
 "cells": [
  {
   "cell_type": "markdown",
   "id": "3074165c-332e-450c-954f-0ca08d5a846d",
   "metadata": {},
   "source": [
    "# Assignment 01"
   ]
  },
  {
   "cell_type": "code",
   "execution_count": 3,
   "id": "38f81591-18de-4e66-9008-0dabed030459",
   "metadata": {},
   "outputs": [],
   "source": [
    "salaries = ['20k', '40k', '50k', '60k', '35k', '89k','40k']"
   ]
  },
  {
   "cell_type": "markdown",
   "id": "fe2626c9-fd2b-4d3a-b6a7-d29964ce9156",
   "metadata": {},
   "source": [
    "#### 1. Length of the salaries list"
   ]
  },
  {
   "cell_type": "code",
   "execution_count": 5,
   "id": "9709d454-1cb1-4994-99a8-ddf6bf1933ed",
   "metadata": {},
   "outputs": [
    {
     "name": "stdout",
     "output_type": "stream",
     "text": [
      "7\n"
     ]
    }
   ],
   "source": [
    "print(len(salaries))"
   ]
  },
  {
   "cell_type": "markdown",
   "id": "e8e18781-75f0-45a9-9e03-19e938e66cb7",
   "metadata": {},
   "source": [
    "#### 2. Retrieve the third salary in the list by using index"
   ]
  },
  {
   "cell_type": "code",
   "execution_count": 7,
   "id": "f0b239d4-8804-458d-8bc5-acd963897bbb",
   "metadata": {},
   "outputs": [
    {
     "name": "stdout",
     "output_type": "stream",
     "text": [
      "50k\n"
     ]
    }
   ],
   "source": [
    "print(salaries[2])"
   ]
  },
  {
   "cell_type": "markdown",
   "id": "9f094f81-871f-497b-8892-c100b8f3a93c",
   "metadata": {},
   "source": [
    "#### 3. Extract the last salary from the list by using a negative index"
   ]
  },
  {
   "cell_type": "code",
   "execution_count": 9,
   "id": "9f0ff2ac-c829-4b0c-81f9-9c1039bb6279",
   "metadata": {},
   "outputs": [
    {
     "name": "stdout",
     "output_type": "stream",
     "text": [
      "40k\n"
     ]
    }
   ],
   "source": [
    "print(salaries[-1])"
   ]
  },
  {
   "cell_type": "markdown",
   "id": "eade007b-3ea2-4604-bd33-a5c554d8fc98",
   "metadata": {},
   "source": [
    "#### 4. Slice the salaries list to get only the middle three salaries"
   ]
  },
  {
   "cell_type": "code",
   "execution_count": 11,
   "id": "983adee5-949b-4e37-be89-f0d49a107e2d",
   "metadata": {},
   "outputs": [
    {
     "name": "stdout",
     "output_type": "stream",
     "text": [
      "['50k', '60k', '35k']\n"
     ]
    }
   ],
   "source": [
    "print(salaries[2:5])"
   ]
  },
  {
   "cell_type": "markdown",
   "id": "7f4131e4-8e1b-4a19-8b42-f9fe22abeb57",
   "metadata": {},
   "source": [
    "#### 5. Add a new salary to the list, '100k' by using append() method"
   ]
  },
  {
   "cell_type": "code",
   "execution_count": 13,
   "id": "e5051c0d-a2c2-496e-8a01-d4f08d0670a9",
   "metadata": {},
   "outputs": [
    {
     "name": "stdout",
     "output_type": "stream",
     "text": [
      "['20k', '40k', '50k', '60k', '35k', '89k', '40k', '100k']\n"
     ]
    }
   ],
   "source": [
    "salaries.append('100k')\n",
    "print(salaries)"
   ]
  },
  {
   "cell_type": "markdown",
   "id": "3d22c73b-40b8-4380-9e3f-19dac49a5bc4",
   "metadata": {},
   "source": [
    "#### 6. Add a new salary to the list, '120k' without method"
   ]
  },
  {
   "cell_type": "code",
   "execution_count": 15,
   "id": "d0b6c9db-d22d-405d-aa05-07fdcef8fa55",
   "metadata": {},
   "outputs": [
    {
     "name": "stdout",
     "output_type": "stream",
     "text": [
      "['20k', '40k', '50k', '60k', '35k', '89k', '40k', '100k', '120k']\n"
     ]
    }
   ],
   "source": [
    "salaries += ['120k']\n",
    "print(salaries)"
   ]
  },
  {
   "cell_type": "markdown",
   "id": "d0938236-7fef-47eb-bf2b-958c150bfa0e",
   "metadata": {},
   "source": [
    "#### 7. Replace the third salary in the list with '55k' and print the updated list"
   ]
  },
  {
   "cell_type": "code",
   "execution_count": 17,
   "id": "275ace0c-5b5c-4d1a-b166-506b8e2f363b",
   "metadata": {},
   "outputs": [
    {
     "name": "stdout",
     "output_type": "stream",
     "text": [
      "['20k', '40k', '55k', '60k', '35k', '89k', '40k', '100k', '120k']\n"
     ]
    }
   ],
   "source": [
    "salaries[2] = '55k'\n",
    "print(salaries)"
   ]
  },
  {
   "cell_type": "markdown",
   "id": "277823ba-96ef-4e58-83f4-26baa22f2442",
   "metadata": {},
   "source": [
    "#### 8. Count how many times '40k' appears in the list"
   ]
  },
  {
   "cell_type": "code",
   "execution_count": 19,
   "id": "a2174d3b-70e9-44e4-9410-429f943359e7",
   "metadata": {},
   "outputs": [
    {
     "name": "stdout",
     "output_type": "stream",
     "text": [
      "2\n"
     ]
    }
   ],
   "source": [
    "print(salaries.count('40k'))"
   ]
  },
  {
   "cell_type": "markdown",
   "id": "8763602a-0ced-4447-9ce0-0fab402a1c04",
   "metadata": {},
   "source": [
    "#### 9. Insert a new salary at the second position"
   ]
  },
  {
   "cell_type": "code",
   "execution_count": 21,
   "id": "b32d25a7-ea69-4c3d-aa56-394181261d73",
   "metadata": {},
   "outputs": [
    {
     "name": "stdout",
     "output_type": "stream",
     "text": [
      "['20k', '75k', '40k', '55k', '60k', '35k', '89k', '40k', '100k', '120k']\n"
     ]
    }
   ],
   "source": [
    "salaries.insert(1, '75k')\n",
    "print(salaries)"
   ]
  },
  {
   "cell_type": "markdown",
   "id": "b357e965-754f-4be1-9516-b24e2f52e1b0",
   "metadata": {},
   "source": [
    "#### 10. Reverse the order of the salaries list with method"
   ]
  },
  {
   "cell_type": "code",
   "execution_count": 23,
   "id": "23f5456c-973d-40f4-aa8e-46c1d903335f",
   "metadata": {},
   "outputs": [
    {
     "name": "stdout",
     "output_type": "stream",
     "text": [
      "['120k', '100k', '40k', '89k', '35k', '60k', '55k', '40k', '75k', '20k']\n"
     ]
    }
   ],
   "source": [
    "salaries.reverse()\n",
    "print(salaries)"
   ]
  },
  {
   "cell_type": "markdown",
   "id": "fc05aad5-4d65-46b6-b573-3bc19f3ce5dd",
   "metadata": {},
   "source": [
    "#### 11. Reverse the order of the salaries list without method"
   ]
  },
  {
   "cell_type": "code",
   "execution_count": 25,
   "id": "b65fe1e2-6879-408e-89fd-551b63d105ab",
   "metadata": {},
   "outputs": [
    {
     "name": "stdout",
     "output_type": "stream",
     "text": [
      "['20k', '75k', '40k', '55k', '60k', '35k', '89k', '40k', '100k', '120k']\n"
     ]
    }
   ],
   "source": [
    "salaries = salaries[::-1]\n",
    "print(salaries)"
   ]
  },
  {
   "cell_type": "code",
   "execution_count": null,
   "id": "6757c7ee-ff96-42fa-862a-8a3ff4882d5a",
   "metadata": {},
   "outputs": [],
   "source": []
  }
 ],
 "metadata": {
  "kernelspec": {
   "display_name": "Python 3 (ipykernel)",
   "language": "python",
   "name": "python3"
  },
  "language_info": {
   "codemirror_mode": {
    "name": "ipython",
    "version": 3
   },
   "file_extension": ".py",
   "mimetype": "text/x-python",
   "name": "python",
   "nbconvert_exporter": "python",
   "pygments_lexer": "ipython3",
   "version": "3.12.7"
  }
 },
 "nbformat": 4,
 "nbformat_minor": 5
}
